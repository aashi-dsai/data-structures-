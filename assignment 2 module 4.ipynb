{
 "cells": [
  {
   "cell_type": "code",
   "execution_count": null,
   "id": "9db24283-96c4-44f0-8015-45224b0bfda0",
   "metadata": {},
   "outputs": [],
   "source": [
    "                            <<<<<<<<<<<<<<    MODULE 4 ASSIGNMENT BY ASHI GAUTAM    >>>>>>>>>>>>>>"
   ]
  },
  {
   "cell_type": "code",
   "execution_count": null,
   "id": "d1c2ea16-e36b-4360-9f34-eed01cd2bbcc",
   "metadata": {},
   "outputs": [],
   "source": [
    "                          ################## T H E O R Y____________Q U E S T I O N S ################"
   ]
  },
  {
   "cell_type": "raw",
   "id": "a87706c3-70e3-4abb-8237-729e65955391",
   "metadata": {},
   "source": [
    "1- What are data structures,and why are they important?\n",
    "Ans- Data structures organize and store data efficiently for optimal access and modification. They are vital for solving problems effectively in computer science and programming."
   ]
  },
  {
   "cell_type": "raw",
   "id": "541a940e-4458-463f-b78d-d1338ed59476",
   "metadata": {},
   "source": [
    "2- Difference between mutable and immutable data types with examples?\n",
    "Ans- Mutable: Can be changed after creation (e.g., list, dict).\n",
    "Immutable: Cannot be changed after creation (e.g., tuple, string)."
   ]
  },
  {
   "cell_type": "raw",
   "id": "4db04796-5b18-49c5-9e26-80526b3e92d4",
   "metadata": {},
   "source": [
    "3- Main differences between lists and tuples in Python?\n",
    "Ans- Lists are mutable, dynamic, and slower.\n",
    "Tuples are immutable, faster, and used for fixed collections."
   ]
  },
  {
   "cell_type": "raw",
   "id": "5c7f99f7-79cf-4f5d-8c12-dbabc868231a",
   "metadata": {},
   "source": [
    "4- How dictionaries store data?\n",
    "Ans- Dictionaries store data as key-value pairs using a hash table for fast lookup."
   ]
  },
  {
   "cell_type": "markdown",
   "id": "016f7444-e002-4cea-936a-f392bd6d91a4",
   "metadata": {},
   "source": [
    "5- Why use a set instead of a list?\n",
    "Ans- Sets automatically eliminate duplicates and provide faster membership testing."
   ]
  },
  {
   "cell_type": "raw",
   "id": "cb7ea5b9-4b31-462b-92d2-0d2ad7805ce6",
   "metadata": {},
   "source": [
    "6- What is a string in Python, and how is it different from a list?\n",
    "Ans- A string is an immutable sequence of characters, while a list is mutable and can store any data type."
   ]
  },
  {
   "cell_type": "raw",
   "id": "c7163255-de49-418b-9e62-14000b0d947c",
   "metadata": {},
   "source": [
    "7- How do tuples ensure data integrity in Python?\n",
    "Ans- Being immutable, tuples prevent accidental modifications, maintaining data consistency."
   ]
  },
  {
   "cell_type": "raw",
   "id": "c4c0bffe-287a-4dec-a106-784f1dba108f",
   "metadata": {},
   "source": [
    "8- What is a hash table, and how does it relate to dictionaries in Python\n",
    "Ans- hash table maps keys to values using a hash function. Python dictionaries are built on this concept."
   ]
  },
  {
   "cell_type": "raw",
   "id": "3cd8d3ab-4f22-43c3-af9a-52163c39c7e4",
   "metadata": {},
   "source": [
    "9-Can lists contain different data types in Python?\n",
    "Ans- Yes, lists can hold multiple and mixed data types."
   ]
  },
  {
   "cell_type": "raw",
   "id": "16623d5f-1937-4a17-b7e7-e4f88cdfb4a5",
   "metadata": {},
   "source": [
    "10- Why strings are immutable in Python?\n",
    "Ans- Immutability ensures memory efficiency, thread safety, and consistent behavior during operations."
   ]
  },
  {
   "cell_type": "raw",
   "id": "a3959bfa-1c36-4113-b391-94eea3c6cca0",
   "metadata": {},
   "source": [
    "11- Advantages of dictionaries over lists for certain tasks?\n",
    "Ans- Dictionaries offer O(1) access to values using keys, ideal for lookup-heavy scenarios."
   ]
  },
  {
   "cell_type": "raw",
   "id": "df539b3a-269c-447c-b757-fc8007f63570",
   "metadata": {},
   "source": [
    "12- Scenario where using a tuple is preferable over a list?\n",
    "Ans- When returning multiple values from a function or storing coordinates where immutability is essential."
   ]
  },
  {
   "cell_type": "raw",
   "id": "2175748f-f28e-44fc-9538-68498bcb6169",
   "metadata": {},
   "source": [
    "13- How sets handle duplicate values in Python:\n",
    "Ans- Sets automatically discard duplicate elements, ensuring unique values."
   ]
  },
  {
   "cell_type": "raw",
   "id": "a38ea2bd-a372-4fe3-a297-de85de13a195",
   "metadata": {},
   "source": [
    "14- How the “in” keyword works differently for lists and dictionaries?\n",
    "Ans- List: Checks if a value exists.\n",
    "Dictionary: Checks if a key exists."
   ]
  },
  {
   "cell_type": "raw",
   "id": "78231112-983a-4cc3-89c5-05f8aaf23e6d",
   "metadata": {},
   "source": [
    "15- Can you modify elements of a tuple? Why or why not?\n",
    "Ans- No. Tuples are immutable, and once created, their content cannot be altered."
   ]
  },
  {
   "cell_type": "raw",
   "id": "945e57d3-728c-4837-9a78-52743cdd72f3",
   "metadata": {},
   "source": [
    "16-What is a nested dictionary, and give an example of its use case?\n",
    "Ans- A dictionary inside another dictionary.\n",
    "Example: employee = {'John': {'age': 30, 'dept': 'HR'}}. "
   ]
  },
  {
   "cell_type": "raw",
   "id": "f23a1bda-d649-4b90-bca9-52266739a54f",
   "metadata": {},
   "source": [
    "17- Time complexity of accessing elements in a dictionary?\n",
    "Ans- O(1) on average due to hash-based indexing."
   ]
  },
  {
   "cell_type": "raw",
   "id": "c2a13c80-d011-4172-a6e5-f957a4c6a0f6",
   "metadata": {},
   "source": [
    "18- Situations where lists are preferred over dictionaries?\n",
    "Ans- When order matters, duplicates are needed, or simple indexed iteration is required."
   ]
  },
  {
   "cell_type": "raw",
   "id": "f6292b84-702e-4235-b062-a8221f5ddc8d",
   "metadata": {},
   "source": [
    "19- Why dictionaries are considered unordered, and how that affects retrieval?\n",
    "Ans- Prior to Python 3.7, order was not guaranteed. In modern versions, they preserve insertion order but retrieval still relies on key-based access,\n",
    "not positional indexing."
   ]
  },
  {
   "cell_type": "raw",
   "id": "62253a01-f5b0-4d00-b0ce-b1fb916e6c16",
   "metadata": {},
   "source": [
    "20- Difference between a list and a dictionary in terms of data retrieval?\n",
    "Ans- List: Access by index.\n",
    "Dictionary: Access by key, which is more semantic and efficient for large data sets."
   ]
  },
  {
   "cell_type": "code",
   "execution_count": null,
   "id": "1d89aba5-34bb-4e8b-94cd-e69f795a242d",
   "metadata": {},
   "outputs": [],
   "source": [
    "                              ########## P R A C T I C A L_________Q U E S T I O N S ##########"
   ]
  },
  {
   "cell_type": "raw",
   "id": "90aae6b0-9cd9-4fa2-b62e-e72cb2d0e406",
   "metadata": {},
   "source": [
    "1. Create a string with your name and print it"
   ]
  },
  {
   "cell_type": "code",
   "execution_count": 2,
   "id": "948fa7b5-eaf4-42cf-b36a-616e6337b08e",
   "metadata": {},
   "outputs": [
    {
     "name": "stdout",
     "output_type": "stream",
     "text": [
      "My name is: Aashi\n"
     ]
    }
   ],
   "source": [
    "my_name = \"Aashi\"\n",
    "print(\"My name is:\", my_name)"
   ]
  },
  {
   "cell_type": "raw",
   "id": "35ccfa10-562b-4928-8784-ea4c46262eba",
   "metadata": {},
   "source": [
    "2. Find the length of the string \"Hello World\""
   ]
  },
  {
   "cell_type": "code",
   "execution_count": 3,
   "id": "a02f53b5-0dd4-4ea3-876a-83314e5b8ddd",
   "metadata": {},
   "outputs": [
    {
     "name": "stdout",
     "output_type": "stream",
     "text": [
      "Length of the string: 11\n"
     ]
    }
   ],
   "source": [
    "message = \"Hello World\"\n",
    "print(\"Length of the string:\", len(message))"
   ]
  },
  {
   "cell_type": "raw",
   "id": "6a9a8281-a53c-48bb-87cc-7ff425fe362a",
   "metadata": {},
   "source": [
    "3. Slice the first 3 characters from the string \"Python Programming\""
   ]
  },
  {
   "cell_type": "code",
   "execution_count": 4,
   "id": "178c84f7-b0f2-4ce6-a193-14377e83dec3",
   "metadata": {},
   "outputs": [
    {
     "name": "stdout",
     "output_type": "stream",
     "text": [
      "First 3 characters: Pyt\n"
     ]
    }
   ],
   "source": [
    "language = \"Python Programming\"\n",
    "print(\"First 3 characters:\", language[:3])"
   ]
  },
  {
   "cell_type": "raw",
   "id": "c6c2c184-2630-465a-a6e7-81875f2a7ab6",
   "metadata": {},
   "source": [
    "4. Convert the string \"hello\" to uppercase"
   ]
  },
  {
   "cell_type": "code",
   "execution_count": 5,
   "id": "1db7cae1-9ab6-41b1-b18d-9d8ab4f1dedd",
   "metadata": {},
   "outputs": [
    {
     "name": "stdout",
     "output_type": "stream",
     "text": [
      "Uppercase: HELLO\n"
     ]
    }
   ],
   "source": [
    "greeting = \"hello\"\n",
    "print(\"Uppercase:\", greeting.upper())"
   ]
  },
  {
   "cell_type": "raw",
   "id": "6b50d82a-67f4-4678-8ce1-0aa589ddc476",
   "metadata": {},
   "source": [
    "5. Replace the word \"apple\" with \"orange\" in the string \"I like apple\""
   ]
  },
  {
   "cell_type": "code",
   "execution_count": 6,
   "id": "f79aa974-5a4c-4cda-8a57-b236825781f6",
   "metadata": {},
   "outputs": [
    {
     "name": "stdout",
     "output_type": "stream",
     "text": [
      "Updated sentence: I like orange\n"
     ]
    }
   ],
   "source": [
    "sentence = \"I like apple\"\n",
    "print(\"Updated sentence:\", sentence.replace(\"apple\", \"orange\"))"
   ]
  },
  {
   "cell_type": "raw",
   "id": "077f83a7-0817-4020-ba51-a40949d9b7a5",
   "metadata": {},
   "source": [
    "6. Create a list with numbers 1 to 5 and print it"
   ]
  },
  {
   "cell_type": "code",
   "execution_count": 7,
   "id": "772a0101-debe-4385-80d1-8b908f84073a",
   "metadata": {},
   "outputs": [
    {
     "name": "stdout",
     "output_type": "stream",
     "text": [
      "List: [1, 2, 3, 4, 5]\n"
     ]
    }
   ],
   "source": [
    "number_list = [1, 2, 3, 4, 5]\n",
    "print(\"List:\", number_list)"
   ]
  },
  {
   "cell_type": "raw",
   "id": "456b6db2-7875-4e31-a4f6-207741aca161",
   "metadata": {},
   "source": [
    "7. Append the number 10 to the list [1, 2, 3, 4]"
   ]
  },
  {
   "cell_type": "code",
   "execution_count": 8,
   "id": "cdc37e9a-cb0e-4eb5-9a8c-1a3f0addaf37",
   "metadata": {},
   "outputs": [
    {
     "name": "stdout",
     "output_type": "stream",
     "text": [
      "List after appending 10: [1, 2, 3, 4, 10]\n"
     ]
    }
   ],
   "source": [
    "num_list = [1, 2, 3, 4]\n",
    "num_list.append(10)\n",
    "print(\"List after appending 10:\", num_list)"
   ]
  },
  {
   "cell_type": "raw",
   "id": "ad97bac3-b6e4-4fc6-871e-becf638d06e4",
   "metadata": {},
   "source": [
    "8. Remove the number 3 from the list [1, 2, 3, 4, 5]"
   ]
  },
  {
   "cell_type": "code",
   "execution_count": 9,
   "id": "45096b88-ae35-476c-8486-c1830dbcc795",
   "metadata": {},
   "outputs": [
    {
     "name": "stdout",
     "output_type": "stream",
     "text": [
      "List after removing 3: [1, 2, 4, 5]\n"
     ]
    }
   ],
   "source": [
    "sample_list = [1, 2, 3, 4, 5]\n",
    "sample_list.remove(3)\n",
    "print(\"List after removing 3:\", sample_list)"
   ]
  },
  {
   "cell_type": "raw",
   "id": "18625f56-9e0d-4a67-845f-d6329ee25ab1",
   "metadata": {},
   "source": [
    "9. Access the second element in the list ['a', 'b', 'c', 'd']"
   ]
  },
  {
   "cell_type": "code",
   "execution_count": 10,
   "id": "5d5e725b-2928-4f7a-b141-30c6edc53a90",
   "metadata": {},
   "outputs": [
    {
     "name": "stdout",
     "output_type": "stream",
     "text": [
      "Second element: b\n"
     ]
    }
   ],
   "source": [
    "alpha_list = ['a', 'b', 'c', 'd']\n",
    "print(\"Second element:\", alpha_list[1])"
   ]
  },
  {
   "cell_type": "raw",
   "id": "29fb09f9-0ffa-4fae-a454-12d5473fb976",
   "metadata": {},
   "source": [
    "10. Reverse the list [10, 20, 30, 40, 50]"
   ]
  },
  {
   "cell_type": "code",
   "execution_count": 11,
   "id": "58d0dd08-4cd7-4d30-b737-63238eea6e48",
   "metadata": {},
   "outputs": [
    {
     "name": "stdout",
     "output_type": "stream",
     "text": [
      "Reversed list: [50, 40, 30, 20, 10]\n"
     ]
    }
   ],
   "source": [
    "rev_list = [10, 20, 30, 40, 50]\n",
    "rev_list.reverse()\n",
    "print(\"Reversed list:\", rev_list)"
   ]
  },
  {
   "cell_type": "raw",
   "id": "5a86a90a-bbe3-4a0d-bcfb-8f6ee6d6d498",
   "metadata": {},
   "source": [
    "11. Create a tuple with the elements 100, 200, 300 and print it"
   ]
  },
  {
   "cell_type": "code",
   "execution_count": 12,
   "id": "9f6dba48-cb50-4ed9-9ad7-e70e5d2b1259",
   "metadata": {},
   "outputs": [
    {
     "name": "stdout",
     "output_type": "stream",
     "text": [
      "Tuple: (100, 200, 300)\n"
     ]
    }
   ],
   "source": [
    "my_tuple = (100, 200, 300)\n",
    "print(\"Tuple:\", my_tuple)"
   ]
  },
  {
   "cell_type": "raw",
   "id": "314f8696-f130-4949-95bc-38e502959313",
   "metadata": {},
   "source": [
    "12. Access the second-to-last element of the tuple"
   ]
  },
  {
   "cell_type": "code",
   "execution_count": 13,
   "id": "cd31e344-8fce-4247-9e9c-08d2410c9e14",
   "metadata": {},
   "outputs": [
    {
     "name": "stdout",
     "output_type": "stream",
     "text": [
      "Second-to-last color: blue\n"
     ]
    }
   ],
   "source": [
    "colors = ('red', 'green', 'blue', 'yellow')\n",
    "print(\"Second-to-last color:\", colors[-2])"
   ]
  },
  {
   "cell_type": "raw",
   "id": "ed844096-e5eb-4df4-9b0b-4f98c0111179",
   "metadata": {},
   "source": [
    "13. Find the minimum number in the tuple"
   ]
  },
  {
   "cell_type": "code",
   "execution_count": 14,
   "id": "15d2c2c5-bffe-4a01-a56a-8ec3e878a7af",
   "metadata": {},
   "outputs": [
    {
     "name": "stdout",
     "output_type": "stream",
     "text": [
      "Minimum value: 5\n"
     ]
    }
   ],
   "source": [
    "numbers = (10, 20, 5, 15)\n",
    "print(\"Minimum value:\", min(numbers))"
   ]
  },
  {
   "cell_type": "raw",
   "id": "09cb5cae-4eb6-4dc9-a3a7-3fbab45ff2c7",
   "metadata": {},
   "source": [
    "14. Find the index of the element \"cat\""
   ]
  },
  {
   "cell_type": "code",
   "execution_count": 15,
   "id": "098061a3-21b9-46d7-82c1-abd6c147f7a7",
   "metadata": {},
   "outputs": [
    {
     "name": "stdout",
     "output_type": "stream",
     "text": [
      "Index of 'cat': 1\n"
     ]
    }
   ],
   "source": [
    "animals = ('dog', 'cat', 'rabbit')\n",
    "print(\"Index of 'cat':\", animals.index('cat'))"
   ]
  },
  {
   "cell_type": "raw",
   "id": "88ef6c5f-8496-4d73-a211-485a56a86aa2",
   "metadata": {},
   "source": [
    "15. Check if \"kiwi\" is in a tuple of fruits"
   ]
  },
  {
   "cell_type": "code",
   "execution_count": 16,
   "id": "0c1ac542-7618-4d79-bf15-6e2c1182a987",
   "metadata": {},
   "outputs": [
    {
     "name": "stdout",
     "output_type": "stream",
     "text": [
      "Is 'kiwi' in fruits? False\n"
     ]
    }
   ],
   "source": [
    "fruits = ('apple', 'banana', 'orange')\n",
    "print(\"Is 'kiwi' in fruits?\", 'kiwi' in fruits)"
   ]
  },
  {
   "cell_type": "raw",
   "id": "de72e0c0-fe96-4ebc-8b65-5263de59984b",
   "metadata": {},
   "source": [
    "16. Create a set with the elements 'a', 'b', 'c' and print it"
   ]
  },
  {
   "cell_type": "code",
   "execution_count": 17,
   "id": "473ae072-3a04-48d9-afd4-9b7b266b487a",
   "metadata": {},
   "outputs": [
    {
     "name": "stdout",
     "output_type": "stream",
     "text": [
      "Set: {'b', 'c', 'a'}\n"
     ]
    }
   ],
   "source": [
    "my_set = {'a', 'b', 'c'}\n",
    "print(\"Set:\", my_set)"
   ]
  },
  {
   "cell_type": "raw",
   "id": "f988f8f5-c89a-459a-9c67-49346448af73",
   "metadata": {},
   "source": [
    "17. Clear all elements from the set"
   ]
  },
  {
   "cell_type": "code",
   "execution_count": 18,
   "id": "fa0b65bb-c16c-4e9a-a428-64b5a3481dba",
   "metadata": {},
   "outputs": [
    {
     "name": "stdout",
     "output_type": "stream",
     "text": [
      "Cleared set: set()\n"
     ]
    }
   ],
   "source": [
    "sample_set = {1, 2, 3, 4, 5}\n",
    "sample_set.clear()\n",
    "print(\"Cleared set:\", sample_set)"
   ]
  },
  {
   "cell_type": "raw",
   "id": "f054d677-0817-4729-99ae-0b49f2be457c",
   "metadata": {},
   "source": [
    "18. Remove the element 4 from the set"
   ]
  },
  {
   "cell_type": "code",
   "execution_count": 19,
   "id": "68b37ddd-36e0-4333-9713-8e017b013a43",
   "metadata": {},
   "outputs": [
    {
     "name": "stdout",
     "output_type": "stream",
     "text": [
      "Set after removing 4: {1, 2, 3}\n"
     ]
    }
   ],
   "source": [
    "set_numbers = {1, 2, 3, 4}\n",
    "set_numbers.remove(4)\n",
    "print(\"Set after removing 4:\", set_numbers)"
   ]
  },
  {
   "cell_type": "raw",
   "id": "ff68c266-bda1-4905-8bba-2bcfdfa6cbe3",
   "metadata": {},
   "source": [
    "19. Find the union of two sets"
   ]
  },
  {
   "cell_type": "code",
   "execution_count": 20,
   "id": "2c4602fc-15f9-4ee7-9e66-3817a5a4b88c",
   "metadata": {},
   "outputs": [
    {
     "name": "stdout",
     "output_type": "stream",
     "text": [
      "Union: {1, 2, 3, 4, 5}\n"
     ]
    }
   ],
   "source": [
    "set1 = {1, 2, 3}\n",
    "set2 = {3, 4, 5}\n",
    "union_set = set1.union(set2)\n",
    "print(\"Union:\", union_set)"
   ]
  },
  {
   "cell_type": "raw",
   "id": "a1ddbccc-8c82-45ce-902f-588efccd87f9",
   "metadata": {},
   "source": [
    "20. Find the intersection of two sets"
   ]
  },
  {
   "cell_type": "code",
   "execution_count": 21,
   "id": "894d15ca-2cb4-4f79-a7c3-f95db4c8c68a",
   "metadata": {},
   "outputs": [
    {
     "name": "stdout",
     "output_type": "stream",
     "text": [
      "Intersection: {2, 3}\n"
     ]
    }
   ],
   "source": [
    "intersection_set = set1.intersection({2, 3, 4})\n",
    "print(\"Intersection:\", intersection_set)"
   ]
  },
  {
   "cell_type": "raw",
   "id": "93f1ff06-d43d-4a8e-9cbe-20986da942c8",
   "metadata": {},
   "source": [
    "21. Create a dictionary with the keys \"name\", \"age\", and \"city\""
   ]
  },
  {
   "cell_type": "code",
   "execution_count": 22,
   "id": "9de214f3-98b8-4768-bc12-7c445cd606a3",
   "metadata": {},
   "outputs": [
    {
     "name": "stdout",
     "output_type": "stream",
     "text": [
      "Dictionary: {'name': 'Aashi', 'age': 22, 'city': 'Agra'}\n"
     ]
    }
   ],
   "source": [
    "person = {\"name\": \"Aashi\", \"age\": 22, \"city\": \"Agra\"}\n",
    "print(\"Dictionary:\", person)"
   ]
  },
  {
   "cell_type": "raw",
   "id": "8635b88c-8920-4c7d-9530-b43a659039b1",
   "metadata": {},
   "source": [
    "22. Add a new key-value pair to the dictionary"
   ]
  },
  {
   "cell_type": "code",
   "execution_count": 23,
   "id": "04e46bdb-c5d9-4f87-90f0-f934d351b850",
   "metadata": {},
   "outputs": [
    {
     "name": "stdout",
     "output_type": "stream",
     "text": [
      "Updated dictionary: {'name': 'John', 'age': 25, 'country': 'USA'}\n"
     ]
    }
   ],
   "source": [
    "employee = {'name': 'John', 'age': 25}\n",
    "employee[\"country\"] = \"USA\"\n",
    "print(\"Updated dictionary:\", employee)"
   ]
  },
  {
   "cell_type": "raw",
   "id": "ed65a387-dd91-4efd-8210-10c197481c32",
   "metadata": {},
   "source": [
    "23. Access the value associated with the key \"name\""
   ]
  },
  {
   "cell_type": "code",
   "execution_count": 24,
   "id": "9c1cfbe6-3db6-4e57-9605-41bd1f0b3dca",
   "metadata": {},
   "outputs": [
    {
     "name": "stdout",
     "output_type": "stream",
     "text": [
      "Name: Alice\n"
     ]
    }
   ],
   "source": [
    "info = {'name': 'Alice', 'age': 30}\n",
    "print(\"Name:\", info['name'])"
   ]
  },
  {
   "cell_type": "raw",
   "id": "e8b5d39a-11cb-4644-81f9-d048f8663d11",
   "metadata": {},
   "source": [
    "24. Remove the key \"age\" from the dictionary"
   ]
  },
  {
   "cell_type": "code",
   "execution_count": 25,
   "id": "59b8f3da-03e5-4e8f-873e-9fa433485149",
   "metadata": {},
   "outputs": [
    {
     "name": "stdout",
     "output_type": "stream",
     "text": [
      "After removing 'age': {'name': 'Bob', 'city': 'New York'}\n"
     ]
    }
   ],
   "source": [
    "data = {'name': 'Bob', 'age': 22, 'city': 'New York'}\n",
    "del data['age']\n",
    "print(\"After removing 'age':\", data)"
   ]
  },
  {
   "cell_type": "raw",
   "id": "e5c42a15-aa5c-44dd-9be2-bc5caaec68b7",
   "metadata": {},
   "source": [
    "25. Check if the key \"city\" exists in the dictionary"
   ]
  },
  {
   "cell_type": "code",
   "execution_count": 26,
   "id": "699d42f9-f9c1-491c-9d09-d49607d7068f",
   "metadata": {},
   "outputs": [
    {
     "name": "stdout",
     "output_type": "stream",
     "text": [
      "Is 'city' in dictionary? True\n"
     ]
    }
   ],
   "source": [
    "details = {'name': 'Alice', 'city': 'Paris'}\n",
    "print(\"Is 'city' in dictionary?\", 'city' in details)"
   ]
  },
  {
   "cell_type": "raw",
   "id": "95a0a8ff-e2ed-4942-af4d-d8e7462aab8d",
   "metadata": {},
   "source": [
    "26. Create a list, a tuple, and a dictionary, and print them"
   ]
  },
  {
   "cell_type": "code",
   "execution_count": 27,
   "id": "53c4ad38-53bc-48e5-85a6-e47e699ef420",
   "metadata": {},
   "outputs": [
    {
     "name": "stdout",
     "output_type": "stream",
     "text": [
      "List: [1, 2, 3]\n",
      "Tuple: (4, 5, 6)\n",
      "Dictionary: {'x': 10, 'y': 20}\n"
     ]
    }
   ],
   "source": [
    "sample_list = [1, 2, 3]\n",
    "sample_tuple = (4, 5, 6)\n",
    "sample_dict = {'x': 10, 'y': 20}\n",
    "print(\"List:\", sample_list)\n",
    "print(\"Tuple:\", sample_tuple)\n",
    "print(\"Dictionary:\", sample_dict)"
   ]
  },
  {
   "cell_type": "raw",
   "id": "9a5ad65a-979e-4c88-90c3-aac699ae5960",
   "metadata": {},
   "source": [
    "27. Create a list of 5 random numbers between 1 and 100, sort and print"
   ]
  },
  {
   "cell_type": "code",
   "execution_count": 28,
   "id": "314905df-7185-417d-9905-005fd05573de",
   "metadata": {},
   "outputs": [
    {
     "name": "stdout",
     "output_type": "stream",
     "text": [
      "Sorted random list: [28, 33, 48, 80, 98]\n"
     ]
    }
   ],
   "source": [
    "import random\n",
    "random_list = random.sample(range(1, 101), 5)\n",
    "random_list.sort()\n",
    "print(\"Sorted random list:\", random_list)"
   ]
  },
  {
   "cell_type": "raw",
   "id": "4d54735e-79a0-40cf-bd7e-914be3f73eb8",
   "metadata": {},
   "source": [
    "28. Create a list with strings and print the element at the third index"
   ]
  },
  {
   "cell_type": "code",
   "execution_count": 29,
   "id": "bf994b7c-3b75-489c-831b-2b30e32fee00",
   "metadata": {},
   "outputs": [
    {
     "name": "stdout",
     "output_type": "stream",
     "text": [
      "Element at index 3: four\n"
     ]
    }
   ],
   "source": [
    "string_list = ['one', 'two', 'three', 'four', 'five']\n",
    "print(\"Element at index 3:\", string_list[3])"
   ]
  },
  {
   "cell_type": "raw",
   "id": "cde054ad-c44a-4d90-bee4-ecb82c3c00bf",
   "metadata": {},
   "source": [
    "29. Combine two dictionaries and print the result"
   ]
  },
  {
   "cell_type": "code",
   "execution_count": 30,
   "id": "f2fa4cb9-6f62-4992-a437-6b9de9b8f80b",
   "metadata": {},
   "outputs": [
    {
     "name": "stdout",
     "output_type": "stream",
     "text": [
      "Combined dictionary: {'a': 1, 'b': 2, 'c': 3, 'd': 4}\n"
     ]
    }
   ],
   "source": [
    "dict1 = {'a': 1, 'b': 2}\n",
    "dict2 = {'c': 3, 'd': 4}\n",
    "combined_dict = {**dict1, **dict2}\n",
    "print(\"Combined dictionary:\", combined_dict)"
   ]
  },
  {
   "cell_type": "raw",
   "id": "36f7d640-136f-4582-ac69-32e66b979bd3",
   "metadata": {},
   "source": [
    "30. Convert a list of strings into a set"
   ]
  },
  {
   "cell_type": "code",
   "execution_count": 31,
   "id": "c69d2542-fb7a-4bd4-acec-fd4665f52fba",
   "metadata": {},
   "outputs": [
    {
     "name": "stdout",
     "output_type": "stream",
     "text": [
      "Set of unique items: {'orange', 'banana', 'apple'}\n"
     ]
    }
   ],
   "source": [
    "string_items = ['apple', 'banana', 'apple', 'orange']\n",
    "unique_items = set(string_items)\n",
    "print(\"Set of unique items:\", unique_items)"
   ]
  },
  {
   "cell_type": "code",
   "execution_count": null,
   "id": "8fdec1d5-8e3e-4136-8476-a842e78c7373",
   "metadata": {},
   "outputs": [],
   "source": [
    "                                                       ########## F I N I S H ##########"
   ]
  }
 ],
 "metadata": {
  "kernelspec": {
   "display_name": "Python 3 (ipykernel)",
   "language": "python",
   "name": "python3"
  },
  "language_info": {
   "codemirror_mode": {
    "name": "ipython",
    "version": 3
   },
   "file_extension": ".py",
   "mimetype": "text/x-python",
   "name": "python",
   "nbconvert_exporter": "python",
   "pygments_lexer": "ipython3",
   "version": "3.12.7"
  }
 },
 "nbformat": 4,
 "nbformat_minor": 5
}
